{
 "cells": [
  {
   "cell_type": "markdown",
   "metadata": {},
   "source": [
    "# Project"
   ]
  },
  {
   "cell_type": "code",
   "execution_count": 38,
   "metadata": {
    "collapsed": true
   },
   "outputs": [],
   "source": [
    "import numpy as np\n",
    "import pandas as pd\n",
    "# import matplotlib.pyplot as plt\n",
    "# import matplotlib.cm as cm\n",
    "# import tensorflow as tf\n",
    "# import sklearn\n",
    "# import subprocess\n",
    "# import shlex\n",
    "\n",
    "import csv"
   ]
  },
  {
   "cell_type": "markdown",
   "metadata": {},
   "source": [
    "## Data Extraction"
   ]
  },
  {
   "cell_type": "code",
   "execution_count": 40,
   "metadata": {},
   "outputs": [
    {
     "name": "stdout",
     "output_type": "stream",
     "text": [
      "(9, 32)\n",
      "[[12 'Improvement' 'Resolved' 'Fixed' '   ' 'Major' 'Eric Yang'\n",
      "  '2011/09/26 23:42:56 +0100' '2011/09/26 23:42:56 +0100' 'Eric Yang'\n",
      "  '2011/09/26 23:44:36 +0100' 0.001157407 0.001157407\n",
      "  'Add additional transition states   '\n",
      "  'For running a server (daemon)  the current states are: START and STARTED. It would be nice to have transition state: STARTING  and STOPPING.   '\n",
      "  '0.1.0' '0.1.0' 0 0 23 1 1 1 0 0 0 0 0 0 0 0 nan]]\n"
     ]
    }
   ],
   "source": [
    "path_all_data = \"../dataset/all_data.csv\"\n",
    "\n",
    "df = pd.read_csv(path_all_data, sep=',')\n",
    "data = np.array(df)\n",
    "print(data.shape)\n",
    "print(data[:1])"
   ]
  },
  {
   "cell_type": "code",
   "execution_count": null,
   "metadata": {
    "collapsed": true
   },
   "outputs": [],
   "source": []
  }
 ],
 "metadata": {
  "kernelspec": {
   "display_name": "Python 3",
   "language": "python",
   "name": "python3"
  },
  "language_info": {
   "codemirror_mode": {
    "name": "ipython",
    "version": 3
   },
   "file_extension": ".py",
   "mimetype": "text/x-python",
   "name": "python",
   "nbconvert_exporter": "python",
   "pygments_lexer": "ipython3",
   "version": "3.6.1"
  }
 },
 "nbformat": 4,
 "nbformat_minor": 2
}
