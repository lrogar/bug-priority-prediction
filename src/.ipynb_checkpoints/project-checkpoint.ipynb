{
 "cells": [
  {
   "cell_type": "markdown",
   "metadata": {},
   "source": [
    "# Project"
   ]
  },
  {
   "cell_type": "code",
   "execution_count": 127,
   "metadata": {
    "collapsed": true
   },
   "outputs": [],
   "source": [
    "import numpy as np\n",
    "import pandas as pd\n",
    "# import matplotlib.pyplot as plt\n",
    "# import matplotlib.cm as cm\n",
    "# import tensorflow as tf\n",
    "# import sklearn\n",
    "# import subprocess\n",
    "# import shlex\n",
    "\n",
    "import csv"
   ]
  },
  {
   "cell_type": "markdown",
   "metadata": {},
   "source": [
    "## Data Extraction"
   ]
  },
  {
   "cell_type": "code",
   "execution_count": 163,
   "metadata": {},
   "outputs": [
    {
     "name": "stdout",
     "output_type": "stream",
     "text": [
      "> SIZE BEFORE CLEANING: (10, 32)\n",
      "> REMOVING ROW:\n",
      "[226 'Bug' 'Resolved' 'Fixed' '   ' 'Minor' 'Suresh Srinivas'\n",
      " '2012/05/11 18:29:32 +0100' 'null' 'Unassigned'\n",
      " '2012/05/15 03:31:24 +0100' 3.376296296 'null'\n",
      " 'Make the daemon names and other field names consistent   '\n",
      " 'Following names need to be consistent: Hdfs -&gt; HDFS Mapreduce -&gt; MapReduce Zookeeper -&gt; ZooKeeper HADOOP -&gt; Hadoop   '\n",
      " '0.9.0' '0.9.0' 0 1 20 0 1 1 1 0 0 0 0 0 0 0 nan]\n",
      "> SIZE AFTER CLEANING: (9, 32)\n"
     ]
    }
   ],
   "source": [
    "path_all_data = \"../dataset/data_test.csv\" # only using 10 examples\n",
    "\n",
    "df = pd.read_csv(path_all_data, sep=',')\n",
    "data = np.array(df)\n",
    "print(\"> SIZE BEFORE CLEANING: \" + str(data.shape))\n",
    "# print(data[:1]) # print first row\n",
    "\n",
    "# Remove rows where data is missing\n",
    "# Iterate through each element in the data. If the space is \"`null`\", \"`nan`\", or \"`    `\", then remove this row.\n",
    "for i, row in enumerate(data):\n",
    "    for j, val in enumerate(row):\n",
    "        if (row[j] == 'null'):\n",
    "            print(\"> REMOVING ROW:\\n\" + str(row))\n",
    "            data = np.delete(data, i, 0)\n",
    "            break\n",
    "\n",
    "print(\"> SIZE AFTER CLEANING: \" + str(data.shape))"
   ]
  },
  {
   "cell_type": "code",
   "execution_count": null,
   "metadata": {
    "collapsed": true
   },
   "outputs": [],
   "source": []
  }
 ],
 "metadata": {
  "kernelspec": {
   "display_name": "Python 3",
   "language": "python",
   "name": "python3"
  },
  "language_info": {
   "codemirror_mode": {
    "name": "ipython",
    "version": 3
   },
   "file_extension": ".py",
   "mimetype": "text/x-python",
   "name": "python",
   "nbconvert_exporter": "python",
   "pygments_lexer": "ipython3",
   "version": "3.6.1"
  }
 },
 "nbformat": 4,
 "nbformat_minor": 2
}
