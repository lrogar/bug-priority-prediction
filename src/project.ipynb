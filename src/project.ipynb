{
 "cells": [
  {
   "cell_type": "markdown",
   "metadata": {},
   "source": [
    "# Table of Contents\n",
    "1. [Data Extraction](#data-extraction)\n",
    "1. [Sentiment Analysis](#sentiment-analysis)\n",
    "1. [Feature Selection](#feature-selection)"
   ]
  },
  {
   "cell_type": "code",
   "execution_count": null,
   "metadata": {
    "collapsed": true
   },
   "outputs": [],
   "source": [
    "import numpy as np\n",
    "import pandas as pd\n",
    "# import matplotlib.pyplot as plt\n",
    "# import matplotlib.cm as cm\n",
    "# import tensorflow as tf\n",
    "# import sklearn\n",
    "# import subprocess\n",
    "# import shlex\n",
    "\n",
    "import csv"
   ]
  },
  {
   "cell_type": "markdown",
   "metadata": {},
   "source": [
    "## Data Extraction <a class=\"anchor\" id=\"data-extraction\"></a>"
   ]
  },
  {
   "cell_type": "markdown",
   "metadata": {},
   "source": [
    "First, the most relevant features are selected manually. The original features included in the dataset were the followig:\n",
    "\n",
    "<img src=\"./resources/features_in_dataset.png\" alt=\"Features in Dataset\" width=\"280\">\n",
    "\n",
    "However, after careful consideration, only the following columns will be taken into account for the purposes of this project:\n",
    "\n",
    "<font color=red>\n",
    "Need to perform manual feature selection!!!\n",
    "</font>"
   ]
  },
  {
   "cell_type": "code",
   "execution_count": null,
   "metadata": {},
   "outputs": [],
   "source": [
    "# ---------- EXTRACTING DATA FROM CSV FILE(S) ----------\n",
    "\n",
    "path_all_data = \"../dataset/data_test.csv\" # only using 10 examples\n",
    "\n",
    "df = pd.read_csv(path_all_data, sep=',')\n",
    "data = np.array(df)\n",
    "\n",
    "# TODO: Only use columns where the hand-selected features lie\n",
    "\n",
    "# ---------- DATA CLEANING ----------\n",
    "\n",
    "# Remove rows where data is missing\n",
    "print(\"> SIZE BEFORE CLEANING: \" + str(data.shape))\n",
    "for i, row in enumerate(data):\n",
    "    for j, val in enumerate(row):\n",
    "        if (row[j] == 'null'):\n",
    "            print(\"> REMOVING ROW:\\n\" + str(row))\n",
    "            data = np.delete(data, i, 0)\n",
    "            break\n",
    "            \n",
    "print(\"> SIZE AFTER CLEANING: \" + str(data.shape))"
   ]
  },
  {
   "cell_type": "markdown",
   "metadata": {},
   "source": [
    "## Sentiment Analysis <a class=\"anchor\" id=\"sentiment-analysis\"></a>"
   ]
  },
  {
   "cell_type": "markdown",
   "metadata": {},
   "source": [
    "## Feature Selection <a class=\"anchor\" id=\"feature-selection\"></a>"
   ]
  },
  {
   "cell_type": "code",
   "execution_count": null,
   "metadata": {
    "collapsed": true
   },
   "outputs": [],
   "source": []
  }
 ],
 "metadata": {
  "kernelspec": {
   "display_name": "Python 3",
   "language": "python",
   "name": "python3"
  },
  "language_info": {
   "codemirror_mode": {
    "name": "ipython",
    "version": 3
   },
   "file_extension": ".py",
   "mimetype": "text/x-python",
   "name": "python",
   "nbconvert_exporter": "python",
   "pygments_lexer": "ipython3",
   "version": "3.6.1"
  }
 },
 "nbformat": 4,
 "nbformat_minor": 2
}
