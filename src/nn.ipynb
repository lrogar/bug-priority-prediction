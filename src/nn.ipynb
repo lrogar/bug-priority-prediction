{
 "cells": [
  {
   "cell_type": "code",
   "execution_count": 1,
   "metadata": {
    "collapsed": true
   },
   "outputs": [],
   "source": [
    "import numpy as np\n",
    "\n",
    "# Data Extraction\n",
    "import pandas as pd\n",
    "\n",
    "# Machine Learning\n",
    "import tensorflow as tf\n",
    "import sklearn"
   ]
  },
  {
   "cell_type": "markdown",
   "metadata": {},
   "source": [
    "# Fetch Clean Data"
   ]
  },
  {
   "cell_type": "code",
   "execution_count": 2,
   "metadata": {
    "collapsed": true
   },
   "outputs": [],
   "source": [
    "def fetch_data(data_path):\n",
    "    \n",
    "    df = pd.read_csv(clean_data_path, sep=',', encoding='ISO-8859-1', header=None)\n",
    "    clean_data = np.array(df)\n",
    "\n",
    "    # get rid of rows containing \"nan\" in clean data file\n",
    "    rows_to_delete = []\n",
    "    for i, row in enumerate(clean_data):\n",
    "        for j, val in enumerate(row):\n",
    "            if (str(row[j]).strip() == 'nan'):\n",
    "                print(\"> Deleting row: \" + str(row))\n",
    "                rows_to_delete.append(i)\n",
    "                break\n",
    "    clean_data = np.delete(clean_data, rows_to_delete, 0)\n",
    "\n",
    "    # don't include the last column; where the labels are\n",
    "    x = (clean_data[:,:-1])\n",
    "\n",
    "    # retrieve the last column: the target/labels\n",
    "    # reshape from (m,) to (m,1), then convert into one-hot vector (m,k)\n",
    "    y = pd.get_dummies(clean_data[:,-1]).values # also converting to one-hot vector using pandas\n",
    "    \n",
    "    return x, y"
   ]
  },
  {
   "cell_type": "markdown",
   "metadata": {},
   "source": [
    "# Class Distribution"
   ]
  },
  {
   "cell_type": "code",
   "execution_count": 3,
   "metadata": {
    "collapsed": true
   },
   "outputs": [],
   "source": [
    "def get_class_distribution(array):\n",
    "    \n",
    "    dist = []\n",
    "    for elem in array: dist.append(np.argmax(elem))\n",
    "        \n",
    "    unique, counts = np.unique(dist, return_counts=True)\n",
    "    \n",
    "    counts = [\"{:.2f}%\".format(num/len(dist)*100) for num in counts]\n",
    "\n",
    "    return (dict(zip(unique, counts)))"
   ]
  },
  {
   "cell_type": "markdown",
   "metadata": {},
   "source": [
    "# Handle Imbalanced Data"
   ]
  },
  {
   "cell_type": "code",
   "execution_count": 4,
   "metadata": {
    "collapsed": true
   },
   "outputs": [],
   "source": [
    "from sklearn.datasets import make_classification\n",
    "\n",
    "def oversample_data(x, y_onehot, alg='naive'):\n",
    "        \n",
    "    # convert y from one-hot to 1D\n",
    "    y = []\n",
    "    for elem in y_onehot: y.append(np.argmax(elem))\n",
    "\n",
    "    if alg=='smote':\n",
    "        from imblearn.over_sampling import SMOTE\n",
    "        x_oversampled, y_oversampled = SMOTE().fit_sample(x, y)\n",
    "    \n",
    "    elif alg=='adasyn':\n",
    "        from imblearn.over_sampling import ADASYN\n",
    "        x_oversampled, y_oversampled = ADASYN().fit_sample(x, y)\n",
    "        \n",
    "    elif alg=='naive':\n",
    "        from imblearn.over_sampling import RandomOverSampler\n",
    "        ros = RandomOverSampler(random_state=0)\n",
    "        x_oversampled, y_oversampled = ros.fit_sample(x, y)\n",
    "        \n",
    "    else:\n",
    "        print(\"ERROR: This is not a valid algorithm.\")\n",
    "\n",
    "    # convert y back into a one-hot vector\n",
    "    y_oversampled = pd.get_dummies(y_oversampled).values\n",
    "    \n",
    "    return x_oversampled, y_oversampled"
   ]
  },
  {
   "cell_type": "markdown",
   "metadata": {},
   "source": [
    "# Split Data into Testing and Training Sets"
   ]
  },
  {
   "cell_type": "code",
   "execution_count": 5,
   "metadata": {
    "collapsed": true
   },
   "outputs": [],
   "source": [
    "from sklearn.model_selection import train_test_split\n",
    "def split_data(data, labels, train_perc):\n",
    "    \n",
    "    test_perc = round(1-train_perc, 2)\n",
    "    x_train, x_test, y_train, y_test = train_test_split(data, labels, train_size=train_perc,\n",
    "                                                        test_size=test_perc, random_state=42, stratify=labels)\n",
    "    return x_train, x_test, y_train, y_test"
   ]
  },
  {
   "cell_type": "markdown",
   "metadata": {},
   "source": [
    "# Neural Network"
   ]
  },
  {
   "cell_type": "code",
   "execution_count": 6,
   "metadata": {
    "collapsed": true
   },
   "outputs": [],
   "source": [
    "def apply_activation_function(X, W, b, func='softmax'):\n",
    "    \n",
    "    if (func == 'softmax'): # softmax\n",
    "        return tf.nn.softmax(tf.add(tf.matmul(X, W), b))\n",
    "    if (func == 'relu'): # relu\n",
    "        return tf.nn.relu(tf.add(tf.matmul(X, W), b))\n",
    "    else: # sigmoid\n",
    "        return tf.sigmoid(tf.add(tf.matmul(X, W), b))"
   ]
  },
  {
   "cell_type": "code",
   "execution_count": 7,
   "metadata": {
    "collapsed": true
   },
   "outputs": [],
   "source": [
    "def get_cost(y, y_):\n",
    "    return tf.reduce_mean(tf.nn.softmax_cross_entropy_with_logits(logits=y_, labels=y))"
   ]
  },
  {
   "cell_type": "code",
   "execution_count": 8,
   "metadata": {
    "collapsed": true
   },
   "outputs": [],
   "source": [
    "# Using multiple layers\n",
    "def get_output_layer(n_hidden_layers, X, n, k, n_perceptrons):\n",
    "    \n",
    "    layer_weights = []\n",
    "    \n",
    "    # input layer to first hidden layer\n",
    "    layer_weights.append({'W': tf.Variable(tf.random_normal([n, n_perceptrons])),\n",
    "                          'b': tf.Variable(tf.random_normal([n_perceptrons]))})\n",
    "    \n",
    "    # generate this many hidden layers\n",
    "    for i in range(n_hidden_layers):\n",
    "        layer_weights.append({'W': tf.Variable(tf.random_normal([n_perceptrons, n_perceptrons])),\n",
    "                              'b': tf.Variable(tf.random_normal([n_perceptrons]))})\n",
    "\n",
    "    # last hidden layer to output layer\n",
    "    layer_weights.append({'W': tf.Variable(tf.random_normal([n_perceptrons, k])),\n",
    "                          'b': tf.Variable(tf.random_normal([k]))})\n",
    "            \n",
    "    # calculate output-first hidden inner layer\n",
    "    aggregated_val = apply_activation_function(X, layer_weights[0]['W'], layer_weights[0]['b'])\n",
    "    \n",
    "    # print(\"  aggregated_val.shape: \" + str(aggregated_val.shape))\n",
    "    \n",
    "    # calculate all hidden layers and output layer\n",
    "    for i in range(1, len(layer_weights)):\n",
    "        aggregated_val = apply_activation_function(aggregated_val, layer_weights[i]['W'], layer_weights[i]['b'])\n",
    "    \n",
    "    # return final layer\n",
    "    return aggregated_val"
   ]
  },
  {
   "cell_type": "markdown",
   "metadata": {},
   "source": [
    "## Variables"
   ]
  },
  {
   "cell_type": "code",
   "execution_count": 9,
   "metadata": {
    "collapsed": true
   },
   "outputs": [],
   "source": [
    "def run_model(n_hidden_layers, X, y, n, learning_rate, epochs, k, init_perceptrons, total_perceptrons, step):\n",
    "   \n",
    "    # to store the different accuracy values for each number of perceptrons used\n",
    "    total_accuracy = []\n",
    "    \n",
    "    # if we are only trying with one set of perceptrons, adjust the upper bound for the \"range\" function below\n",
    "    if (init_perceptrons == total_perceptrons):\n",
    "        stop_cond = init_perceptrons + 1\n",
    "    # otherwise, set the upper bound taking into accout both the initial perceptrons, and the total wanted\n",
    "    else:\n",
    "        stop_cond = init_perceptrons + total_perceptrons + 1\n",
    "\n",
    "    # perform the training for each number of perceptrons specified\n",
    "    for n_nodes in range(init_perceptrons, stop_cond, step):\n",
    "\n",
    "        print(\"> Using \", n_nodes, \" perceptrons and \" + str(n_hidden_layers) + \" hidden layer(s) ...\")\n",
    "\n",
    "        y_ = get_output_layer(n_hidden_layers, X, n, k, n_nodes)\n",
    "        cost_function = get_cost(y, y_)\n",
    "        \n",
    "        # using gradient descent to minimize the cost\n",
    "        optimizer = tf.train.GradientDescentOptimizer(learning_rate).minimize(cost_function)\n",
    "\n",
    "        correct_prediction = tf.equal(tf.argmax(y_, 1), tf.argmax(y, 1)) # checking how many were predicted correctly\n",
    "        benchmark_prediction = tf.equal(tf.argmax(y_rand, 1), tf.argmax(y, 1))\n",
    "        \n",
    "        accuracy = tf.reduce_mean(tf.cast(correct_prediction, tf.float32))\n",
    "        benchmark_accuracy = tf.reduce_mean(tf.cast(benchmark_prediction, tf.float32))\n",
    "\n",
    "        # --- TRAINING ---\n",
    "\n",
    "        # collecting cost for each epoch for plotting\n",
    "        total_cost = []\n",
    "        init_op = tf.global_variables_initializer()\n",
    "\n",
    "        with tf.Session() as sess:\n",
    "\n",
    "            sess.run(init_op)\n",
    "\n",
    "            for epoch in range(epochs):\n",
    "\n",
    "                _, c = sess.run([optimizer, cost_function], feed_dict={X:x_train, y:y_train})\n",
    "                total_cost.append(c)\n",
    "\n",
    "                if (epoch+1) % 1000 == 0:\n",
    "                    print(\"  EPOCH:\", (epoch+1), \"Cost =\", \"{:.15f}\".format(c))\n",
    "\n",
    "            a = sess.run(accuracy, feed_dict={X: x_test, y: y_test})\n",
    "            b_a = sess.run(benchmark_accuracy, feed_dict={y: y_test})\n",
    "            \n",
    "            total_accuracy.append(a)\n",
    "            \n",
    "            print(\"\\n  >> Accuracy = \" + \"{:.5f}%\".format(a*100) + \" vs. Random = \" + \"{:.5f}%\".format(b_a*100))"
   ]
  },
  {
   "cell_type": "markdown",
   "metadata": {},
   "source": [
    "# Implementation"
   ]
  },
  {
   "cell_type": "markdown",
   "metadata": {},
   "source": [
    "### Fetching Clean Data"
   ]
  },
  {
   "cell_type": "code",
   "execution_count": 10,
   "metadata": {
    "collapsed": true
   },
   "outputs": [],
   "source": [
    "project_name = 'all data'\n",
    "clean_data_path = \"../dataset/clean_data.csv\"\n",
    "# clean_data_path = \"../dataset/\" + project_name + \"_clean_data.csv\""
   ]
  },
  {
   "cell_type": "code",
   "execution_count": 11,
   "metadata": {
    "collapsed": true
   },
   "outputs": [],
   "source": [
    "x, y = fetch_data(clean_data_path)"
   ]
  },
  {
   "cell_type": "markdown",
   "metadata": {},
   "source": [
    "<font color=red>DELETING FEATURES\n",
    "</font>"
   ]
  },
  {
   "cell_type": "code",
   "execution_count": 12,
   "metadata": {
    "collapsed": true
   },
   "outputs": [],
   "source": [
    "# TEMP: Delete some features and see how the net performs\n",
    "x = np.delete(x,[1,2,4], axis=1)"
   ]
  },
  {
   "cell_type": "markdown",
   "metadata": {},
   "source": [
    "**Obtain the class distribution of the data, and adjust it if it's imbalanced.**"
   ]
  },
  {
   "cell_type": "code",
   "execution_count": 13,
   "metadata": {},
   "outputs": [
    {
     "name": "stdout",
     "output_type": "stream",
     "text": [
      "\n",
      "Project: ALL DATA\n",
      "\n",
      "Data Distribution\n",
      "{0: '1.20%', 1: '4.12%', 2: '65.00%', 3: '25.07%', 4: '4.60%'}\n"
     ]
    }
   ],
   "source": [
    "dist = get_class_distribution(y)\n",
    "\n",
    "print(\"\\nProject: \" + (project_name).upper())\n",
    "print(\"\\nData Distribution\")\n",
    "print(dist)"
   ]
  },
  {
   "cell_type": "code",
   "execution_count": 14,
   "metadata": {
    "collapsed": true
   },
   "outputs": [],
   "source": [
    "alg = 'naive' # naive, smote, adasyn\n",
    "x, y = oversample_data(x, y, alg)"
   ]
  },
  {
   "cell_type": "code",
   "execution_count": 15,
   "metadata": {},
   "outputs": [
    {
     "name": "stdout",
     "output_type": "stream",
     "text": [
      "\n",
      "Project: ALL DATA\n",
      "\n",
      "Data Distribution\n",
      "{0: '20.00%', 1: '20.00%', 2: '20.00%', 3: '20.00%', 4: '20.00%'}\n"
     ]
    }
   ],
   "source": [
    "dist = get_class_distribution(y)\n",
    "\n",
    "print(\"\\nProject: \" + (project_name).upper())\n",
    "print(\"\\nData Distribution\")\n",
    "print(dist)"
   ]
  },
  {
   "cell_type": "markdown",
   "metadata": {},
   "source": [
    "### Neural Network"
   ]
  },
  {
   "cell_type": "markdown",
   "metadata": {},
   "source": [
    "**Declare variables**"
   ]
  },
  {
   "cell_type": "code",
   "execution_count": 16,
   "metadata": {
    "collapsed": true
   },
   "outputs": [],
   "source": [
    "n_hidden_layers = 1\n",
    "learning_rate = 0.01\n",
    "epochs = 10000 # cycles of feed forward + backpropagation\n",
    "\n",
    "# used to observe the change in accuracy as number of perceptrons increases\n",
    "init_perceptrons = 10\n",
    "total_perceptrons = 10\n",
    "step = 25 # changing from init_perceptrons to total_perceptrons"
   ]
  },
  {
   "cell_type": "markdown",
   "metadata": {},
   "source": [
    "**Split data into training and testing sets**"
   ]
  },
  {
   "cell_type": "code",
   "execution_count": 17,
   "metadata": {},
   "outputs": [
    {
     "name": "stdout",
     "output_type": "stream",
     "text": [
      "> m (training samples) = 9100\n",
      "> n (num. features)= 2\n",
      "> k (num. classes) = 5\n"
     ]
    }
   ],
   "source": [
    "train_perc = .7 # percentage of total data used for training\n",
    "x_train, x_test, y_train, y_test = split_data(x, y, train_perc) # randomly splitting up the data\n",
    "\n",
    "# setting m, n and k variables for placeholder definitions later on\n",
    "m = x_train.shape[0] # number of tuples for training\n",
    "n = x.shape[1] # number of features\n",
    "k = len(y[0]) # number of classes\n",
    "\n",
    "print(\"> m (training samples) = \" + str(m) + \"\\n> n (num. features)= \" + str(n) + \"\\n> k (num. classes) = \" + str(k))"
   ]
  },
  {
   "cell_type": "markdown",
   "metadata": {},
   "source": [
    "**Based on the testing set, generate a random solution as a benchmark for comparisson in terms of accuracy.**"
   ]
  },
  {
   "cell_type": "code",
   "execution_count": 18,
   "metadata": {},
   "outputs": [
    {
     "name": "stdout",
     "output_type": "stream",
     "text": [
      "> y_rand shape: (3900, 5)\n"
     ]
    }
   ],
   "source": [
    "y_rand = pd.get_dummies((np.floor(np.random.rand(len(y_test), 1)*5).astype(int)).flatten()).values\n",
    "print(\"> y_rand shape: \" + str(y_rand.shape))"
   ]
  },
  {
   "cell_type": "markdown",
   "metadata": {},
   "source": [
    "**Run the neural network model**"
   ]
  },
  {
   "cell_type": "code",
   "execution_count": 19,
   "metadata": {
    "collapsed": true
   },
   "outputs": [],
   "source": [
    "# declare training data placeholders\n",
    "X = tf.placeholder(tf.float32, [None, n]) # input x1, x2, x3, ..., x12 (12 nodes)\n",
    "y = tf.placeholder(tf.float32, [None, k]) # output (5 nodes)"
   ]
  },
  {
   "cell_type": "code",
   "execution_count": 20,
   "metadata": {},
   "outputs": [
    {
     "name": "stdout",
     "output_type": "stream",
     "text": [
      "> Using  10  perceptrons and 1 hidden layer(s) ...\n",
      "  EPOCH: 1000 Cost = 1.604899287223816\n",
      "  EPOCH: 2000 Cost = 1.603291988372803\n",
      "  EPOCH: 3000 Cost = 1.601563811302185\n",
      "  EPOCH: 4000 Cost = 1.599710464477539\n",
      "  EPOCH: 5000 Cost = 1.597723484039307\n",
      "  EPOCH: 6000 Cost = 1.595571517944336\n",
      "  EPOCH: 7000 Cost = 1.593298673629761\n",
      "  EPOCH: 8000 Cost = 1.590878605842590\n",
      "  EPOCH: 9000 Cost = 1.588327646255493\n",
      "  EPOCH: 10000 Cost = 1.585708022117615\n",
      "\n",
      "  >> Accuracy = 32.64103% vs. Random = 20.51282%\n"
     ]
    }
   ],
   "source": [
    "# run model\n",
    "total_acc = run_model(n_hidden_layers, X, y, n, learning_rate, epochs, k, init_perceptrons,\n",
    "                        total_perceptrons, step)"
   ]
  },
  {
   "cell_type": "code",
   "execution_count": null,
   "metadata": {
    "collapsed": true
   },
   "outputs": [],
   "source": []
  }
 ],
 "metadata": {
  "kernelspec": {
   "display_name": "Python 3",
   "language": "python",
   "name": "python3"
  },
  "language_info": {
   "codemirror_mode": {
    "name": "ipython",
    "version": 3
   },
   "file_extension": ".py",
   "mimetype": "text/x-python",
   "name": "python",
   "nbconvert_exporter": "python",
   "pygments_lexer": "ipython3",
   "version": "3.6.1"
  }
 },
 "nbformat": 4,
 "nbformat_minor": 2
}
