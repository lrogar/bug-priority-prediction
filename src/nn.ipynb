{
 "cells": [
  {
   "cell_type": "code",
   "execution_count": 26,
   "metadata": {
    "collapsed": true
   },
   "outputs": [],
   "source": [
    "import numpy as np\n",
    "\n",
    "# Data Extraction\n",
    "import pandas as pd\n",
    "\n",
    "# Machine Learning\n",
    "import tensorflow as tf\n",
    "import sklearn"
   ]
  },
  {
   "cell_type": "markdown",
   "metadata": {},
   "source": [
    "# Parameters"
   ]
  },
  {
   "cell_type": "code",
   "execution_count": 27,
   "metadata": {
    "collapsed": true
   },
   "outputs": [],
   "source": [
    "#Data\n",
    "clean_data_path = \"../dataset/clean_data.csv\"\n",
    "\n",
    "#Neural Network\n",
    "num_epochs = 4000        #The number of Epochs(forward+backward prop) to run\n",
    "learning_rate = 0.001     #The learning rate of the optimizers\n",
    "HL_size = 5            #The number of perceptrons in the hidden layer"
   ]
  },
  {
   "cell_type": "markdown",
   "metadata": {},
   "source": [
    "# 2. Implementation <a class=\"anchor\" id=\"implementation\"></a>"
   ]
  },
  {
   "cell_type": "markdown",
   "metadata": {},
   "source": [
    "## 2.2. Fetch Clean Data"
   ]
  },
  {
   "cell_type": "code",
   "execution_count": 28,
   "metadata": {
    "collapsed": true
   },
   "outputs": [],
   "source": [
    "from sklearn.preprocessing import LabelEncoder\n",
    "from sklearn.preprocessing import OneHotEncoder\n",
    "def one_hot(array):\n",
    "    \n",
    "    print(\"> Transforming labels into one-hot vectors...\")\n",
    "    \n",
    "    onehot_encoder = OneHotEncoder(sparse=False)\n",
    "    \n",
    "    # assuming array has already been transformed into integer encodings\n",
    "    # now, convert to binary (one-hot)\n",
    "    array = array.reshape(len(array), 1)\n",
    "    results = onehot_encoder.fit_transform(array)\n",
    "            \n",
    "    return results"
   ]
  },
  {
   "cell_type": "code",
   "execution_count": 29,
   "metadata": {
    "collapsed": true
   },
   "outputs": [],
   "source": [
    "from sklearn.model_selection import train_test_split\n",
    "def split_data(data, labels, train_perc):\n",
    "    \n",
    "    test_perc = round(1-train_perc, 2)\n",
    "    x_train, x_test, y_train, y_test = train_test_split(data, labels, train_size=train_perc, test_size=test_perc, random_state=42)\n",
    "\n",
    "    return x_train, x_test, y_train, y_test"
   ]
  },
  {
   "cell_type": "code",
   "execution_count": 30,
   "metadata": {},
   "outputs": [
    {
     "name": "stdout",
     "output_type": "stream",
     "text": [
      "> Transforming labels into one-hot vectors...\n",
      "\n",
      "  data matrix shape: (10, 5)\n",
      "  labels (y) shape: (10, 5)\n",
      "\n",
      "> m (training samples) = 7\n",
      "> n (num. features)= 5\n",
      "> k (num. classes) = 5\n"
     ]
    }
   ],
   "source": [
    "df = pd.read_csv(clean_data_path, sep=',', encoding='ISO-8859-1', header=None)\n",
    "clean_data = np.array(df)\n",
    "\n",
    "# get rid of rows containing \"nan\" in clean data file\n",
    "rows_to_delete = []\n",
    "for i, row in enumerate(clean_data):\n",
    "    for j, val in enumerate(row):\n",
    "        if (str(row[j]).strip() == 'nan'):\n",
    "            print(\"> Deleting row: \" + str(row))\n",
    "            rows_to_delete.append(i)\n",
    "            break\n",
    "clean_data = np.delete(clean_data, rows_to_delete, 0)\n",
    "\n",
    "# don't include the last column; where the labels are\n",
    "data = (clean_data[:,:-1])\n",
    "\n",
    "# reshape from (m,) to (m,1), then convert into one-hot vector (m,k)\n",
    "y = one_hot((clean_data[:,-1]).reshape((-1, 1)))\n",
    "print(\"\\n  data matrix shape: \" + str(data.shape))\n",
    "print(\"  labels (y) shape: \" + str(y.shape) + '\\n')\n",
    "\n",
    "train_perc = .7 # percentage of total data used for training\n",
    "x_train, x_test, y_train, y_test = split_data(data, y, train_perc) # randomly splitting up the data\n",
    "m = x_train.shape[0] # number of tuples for training\n",
    "n = data.shape[1] # number of features\n",
    "k = len(y[0]) # number of classes\n",
    "\n",
    "print(\"> m (training samples) = \" + str(m) + \"\\n> n (num. features)= \" + str(n) + \"\\n> k (num. classes) = \" + str(k))"
   ]
  },
  {
   "cell_type": "code",
   "execution_count": 31,
   "metadata": {},
   "outputs": [
    {
     "name": "stdout",
     "output_type": "stream",
     "text": [
      "> Transforming labels into one-hot vectors...\n",
      "\n",
      "  y_rand shape: (3, 2)\n"
     ]
    }
   ],
   "source": [
    "y_rand = one_hot(np.floor(np.random.rand(len(y_test),1)*5).astype(int))\n",
    "print(\"\\n  y_rand shape: \" + str(y_rand.shape))"
   ]
  },
  {
   "cell_type": "markdown",
   "metadata": {},
   "source": [
    "# Neural Network Specific Functions"
   ]
  },
  {
   "cell_type": "code",
   "execution_count": 36,
   "metadata": {
    "collapsed": true
   },
   "outputs": [],
   "source": [
    "def model(data, num_feat, num_class, HL_size):\n",
    "    hidden_1_layer = {'weights':tf.Variable(tf.random_normal([num_feat, HL_size])),\n",
    "                      'biases': tf.Variable(tf.random_normal([HL_size]))}\n",
    "    \n",
    "    hidden_2_layer = {'weights':tf.Variable(tf.random_normal([HL_size, HL_size])),\n",
    "                      'biases': tf.Variable(tf.random_normal([HL_size]))}\n",
    "    \n",
    "    hidden_3_layer = {'weights':tf.Variable(tf.random_normal([HL_size, HL_size])),\n",
    "                      'biases': tf.Variable(tf.random_normal([HL_size]))}\n",
    "    \n",
    "    output_layer = {'weights':tf.Variable(tf.random_normal([HL_size, num_class])),\n",
    "                      'biases': tf.Variable(tf.random_normal([num_class]))}\n",
    "    \n",
    "    # (input_data * weights) + biases\n",
    "    \n",
    "    l1 = tf.add(tf.matmul(data, hidden_1_layer['weights']), hidden_1_layer['biases'])\n",
    "    l1 = tf.nn.relu(l1)\n",
    "    \n",
    "    l2 = tf.add(tf.matmul(l1, hidden_2_layer['weights']), hidden_2_layer['biases'])\n",
    "    l2 = tf.nn.relu(l2)\n",
    "    \n",
    "    l3 = tf.add(tf.matmul(l2, hidden_3_layer['weights']), hidden_3_layer['biases'])\n",
    "    l3 = tf.nn.relu(l3)\n",
    "    \n",
    "    output = tf.add(tf.matmul(l3, output_layer['weights']), output_layer['biases'])\n",
    "    \n",
    "    return output\n",
    "\n",
    "def run_neural_net(train_x, test_x, train_y, test_y):\n",
    "    #Get the number of features and number of classes\n",
    "    num_feat, num_class = len(train_x[0,:]), len(train_y[0,:])\n",
    "    \n",
    "    # height x width\n",
    "    x = tf.placeholder('float',[None, num_feat])\n",
    "    y = tf.placeholder('float')\n",
    "    \n",
    "    #Run the model\n",
    "    prediction = model(x, num_feat, num_class, HL_size)\n",
    "    cost = tf.reduce_mean(tf.nn.softmax_cross_entropy_with_logits(logits = prediction,labels = y))\n",
    "    \n",
    "    # learning_default = 0.001\n",
    "    optimizer = tf.train.AdamOptimizer(learning_rate).minimize(cost)    \n",
    "    \n",
    "    #The benchmark prediction\n",
    "    benchmark_prediction = tf.equal(tf.argmax(y_rand, 1), tf.argmax(y, 1))\n",
    "    \n",
    "    with tf.Session() as s:\n",
    "        s.run(tf.global_variables_initializer())\n",
    "        \n",
    "        for epoch in range(num_epochs):\n",
    "            #print(\"epoch_x: \",epoch_x.shape,\"epoch_y:\",epoch_x.shape);\n",
    "            _, epoch_loss = s.run([optimizer, cost], feed_dict = {x:train_x, y:train_y})\n",
    "            if (epoch+1) % 1000 == 0:\n",
    "                print('Epoch',epoch+1,'completed out of',num_epochs,'loss:',epoch_loss)\n",
    "            \n",
    "        #Actual Prediction\n",
    "        correct = tf.equal(tf.argmax(prediction,1), tf.argmax(y,1))        \n",
    "        accuracy = tf.reduce_mean(tf.cast(correct,'float'))\n",
    "        accuracy_val = accuracy.eval({x:test_x, y:test_y})\n",
    "        \n",
    "        #Benchmark Prediction\n",
    "        correct_bench = tf.equal(tf.argmax(prediction,1), tf.argmax(y_rand,1))\n",
    "        accuracy_bench = tf.reduce_mean(tf.cast(correct_bench,'float'))\n",
    "        accuracy_bench = accuracy_bench.eval({x:test_x, y:test_y})\n",
    "        \n",
    "        print('Accuracy:', accuracy_val, \" Benchmark:\",accuracy_bench)"
   ]
  },
  {
   "cell_type": "code",
   "execution_count": 37,
   "metadata": {},
   "outputs": [
    {
     "name": "stdout",
     "output_type": "stream",
     "text": [
      "Epoch 1000 completed out of 4000 loss: 0.618967\n",
      "Epoch 2000 completed out of 4000 loss: 0.271574\n",
      "Epoch 3000 completed out of 4000 loss: 0.150138\n",
      "Epoch 4000 completed out of 4000 loss: 0.0835436\n",
      "Accuracy: 0.333333  Benchmark: 0.0\n"
     ]
    }
   ],
   "source": [
    "run_neural_net(x_train, x_test, y_train, y_test)"
   ]
  },
  {
   "cell_type": "code",
   "execution_count": null,
   "metadata": {
    "collapsed": true
   },
   "outputs": [],
   "source": []
  }
 ],
 "metadata": {
  "kernelspec": {
   "display_name": "Python 3",
   "language": "python",
   "name": "python3"
  },
  "language_info": {
   "codemirror_mode": {
    "name": "ipython",
    "version": 3
   },
   "file_extension": ".py",
   "mimetype": "text/x-python",
   "name": "python",
   "nbconvert_exporter": "python",
   "pygments_lexer": "ipython3",
   "version": "3.6.1"
  }
 },
 "nbformat": 4,
 "nbformat_minor": 2
}
