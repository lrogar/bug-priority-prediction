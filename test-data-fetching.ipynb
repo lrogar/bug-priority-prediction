{
 "cells": [
  {
   "cell_type": "code",
   "execution_count": 1,
   "metadata": {},
   "outputs": [],
   "source": [
    "import numpy as np\n",
    "\n",
    "# Data Extraction\n",
    "import csv\n",
    "import pandas as pd\n",
    "\n",
    "def get_data(path):\n",
    "\n",
    "    # read in data\n",
    "    df = pd.read_csv(path, sep=',', encoding='ISO-8859-1')\n",
    "    data = np.array(df)    \n",
    "    \n",
    "    # get headers with feature labels\n",
    "    with open(path, 'r', newline='', encoding=\"ISO-8859-1\") as f:\n",
    "        reader = csv.reader(f)\n",
    "        feature_headers = next(reader)\n",
    "        \n",
    "    # merge data and feature headers\n",
    "    data = np.insert(data, 0, feature_headers, 0)  \n",
    "        \n",
    "    return data"
   ]
  },
  {
   "cell_type": "code",
   "execution_count": 2,
   "metadata": {
    "collapsed": true
   },
   "outputs": [],
   "source": [
    "def manually_selected_features(data):\n",
    "    \n",
    "    print(\"> Getting manually selecting features...\")\n",
    "    \n",
    "    # note: we're keeping the priority column for now\n",
    "    data = np.delete(data,(0,1,3,4,6,7,8,10,11,15,16,23,24,25,26,27,28,30,31), axis=1)\n",
    "    \n",
    "    return data"
   ]
  },
  {
   "cell_type": "code",
   "execution_count": 9,
   "metadata": {},
   "outputs": [],
   "source": [
    "# Remove rows where data is missing (== 'null)\n",
    "def clean_data(data):\n",
    "    \n",
    "    print(data[3913])\n",
    "    \n",
    "    print('> Cleaning data...')\n",
    "    rows_to_delete = []\n",
    "    \n",
    "    # print(\"> SIZE BEFORE CLEANING: \" + str(data.shape))\n",
    "    for i, row in enumerate(data):\n",
    "        for j, val in enumerate(row):\n",
    "            if (row[j] == 'null'):\n",
    "                \n",
    "                # print(\"> REMOVING ROW:\\n\" + str(row))\n",
    "                # data = np.delete(data, i, 0)\n",
    "                rows_to_delete.append(i)\n",
    "                break\n",
    "                \n",
    "    data = np.delete(data, rows_to_delete, 0)\n",
    "\n",
    "    # print(\"> SIZE AFTER CLEANING: \" + str(data.shape))\n",
    "    print(\"  \\nNumber of tuples after data cleaning: \" + str(data[1:].shape[0]) + '\\n')\n",
    "    \n",
    "    return data"
   ]
  },
  {
   "cell_type": "code",
   "execution_count": 10,
   "metadata": {},
   "outputs": [
    {
     "name": "stdout",
     "output_type": "stream",
     "text": [
      "(4001, 32)\n",
      "> Getting manually selecting features...\n",
      "(4001, 13)\n",
      "['Resolved' 'Minor' 'Unassigned' 'null'\n",
      " 'Wrong InputStream reference is used in method storeFile of class ScpOperations   '\n",
      " 'In method storeFile(String name  Exchange exchange) of class org.apache.camel.component.jsch.ScpOperations the wrong reference of the required input stream is used (line 131). Should be write(channel  file  is  cfg); instead of write(channel  file  exchange.getIn().getMandatoryBody(InputStream.class)  cfg);   '\n",
      " 0 2 33 0 1 1 1.0]\n",
      "> Cleaning data...\n",
      "  \n",
      "Number of tuples after data cleaning: 3908\n",
      "\n"
     ]
    }
   ],
   "source": [
    "data_path = \"./dataset/all_data.csv\"\n",
    "data = get_data(data_path)\n",
    "\n",
    "print(data.shape)\n",
    "data = manually_selected_features(data)\n",
    "print(data.shape)\n",
    "data = clean_data(data)"
   ]
  },
  {
   "cell_type": "code",
   "execution_count": null,
   "metadata": {
    "collapsed": true
   },
   "outputs": [],
   "source": []
  }
 ],
 "metadata": {
  "kernelspec": {
   "display_name": "Python 3",
   "language": "python",
   "name": "python3"
  },
  "language_info": {
   "codemirror_mode": {
    "name": "ipython",
    "version": 3
   },
   "file_extension": ".py",
   "mimetype": "text/x-python",
   "name": "python",
   "nbconvert_exporter": "python",
   "pygments_lexer": "ipython3",
   "version": "3.6.1"
  }
 },
 "nbformat": 4,
 "nbformat_minor": 2
}
